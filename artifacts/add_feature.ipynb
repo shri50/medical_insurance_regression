{
 "cells": [
  {
   "cell_type": "code",
   "execution_count": null,
   "metadata": {},
   "outputs": [],
   "source": []
  }
 ],
 "metadata": {
  "kernelspec": {
   "display_name": "Python 3",
   "language": "python",
   "name": "python3"
  },
  "language_info": {
   "name": "python",
   "version": "3.10.9"
  },
  "orig_nbformat": 4,
  "vscode": {
   "interpreter": {
    "hash": "6fb659000578c6884b37deccda2585ba7454bd47f6680a600ad0b614e111168d"
   }
  }
 },
 "nbformat": 4,
 "nbformat_minor": 2
}
